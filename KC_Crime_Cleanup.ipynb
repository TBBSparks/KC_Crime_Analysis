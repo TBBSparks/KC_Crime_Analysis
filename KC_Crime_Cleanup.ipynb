{
 "cells": [
  {
   "cell_type": "markdown",
   "metadata": {},
   "source": [
    "## 2014-2020 Kansas City Crime vs. Zip Code Population Density"
   ]
  },
  {
   "cell_type": "code",
   "execution_count": null,
   "metadata": {},
   "outputs": [],
   "source": [
    "import pandas as pd\n",
    "from sqlalchemy import create_engine"
   ]
  },
  {
   "cell_type": "markdown",
   "metadata": {},
   "source": [
    "### Data Cleanup "
   ]
  },
  {
   "cell_type": "code",
   "execution_count": null,
   "metadata": {},
   "outputs": [],
   "source": [
    "# Import and read crime CSV files from data.kcmo.org\n",
    "crime_2014=\"data/crime/KCPD_Crime_Data_2014.csv\"\n",
    "crime_2015=\"data/crime/KCPD_Crime_Data_2015.csv\"\n",
    "crime_2016=\"data/crime/KCPD_Crime_Data_2016.csv\"\n",
    "crime_2017=\"data/crime/KCPD_Crime_Data_2017.csv\"\n",
    "crime_2018=\"data/crime/KCPD_Crime_Data_2018.csv\"\n",
    "crime_2019=\"data/crime/KCPD_Crime_Data_2019.csv\"\n",
    "crime_2020=\"data/crime/KCPD_Crime_Data_2020.csv\"\n",
    "\n",
    "crime_2014_df=pd.read_csv(crime_2014)\n",
    "crime_2015_df=pd.read_csv(crime_2015)\n",
    "crime_2016_df=pd.read_csv(crime_2016)\n",
    "crime_2017_df=pd.read_csv(crime_2017)\n",
    "crime_2018_df=pd.read_csv(crime_2018)\n",
    "crime_2019_df=pd.read_csv(crime_2019)\n",
    "crime_2020_df=pd.read_csv(crime_2020)\n",
    "\n",
    "# Clean crime dataframes by specifying columns\n",
    "cleaned_2014_df=crime_2014_df[['Report_No','Zip Code','Description','Race','Sex','Age']]\n",
    "renamed_2014_df=cleaned_2014_df.rename(columns={\"Zip Code\":\"zip\"})\n",
    "final_2014_df=renamed_2014_df.dropna(subset=[\"zip\"])\n",
    "final_2014_df.set_index(\"Report_No\",inplace=True)\n",
    "\n",
    "cleaned_2015_df=crime_2015_df[['Report_No','Zip Code','Description','Race','Sex','Age']]\n",
    "renamed_2015_df=cleaned_2015_df.rename(columns={\"Zip Code\":\"zip\"})\n",
    "final_2015_df=renamed_2015_df.dropna(subset=[\"zip\"])\n",
    "final_2015_df.set_index(\"Report_No\",inplace=True)\n",
    "\n",
    "cleaned_2016_df=crime_2016_df[['Report_No','Zip Code','Description','Race','Sex','Age']]\n",
    "renamed_2016_df=cleaned_2016_df.rename(columns={\"Zip Code\":\"zip\"})\n",
    "final_2016_df=renamed_2016_df.dropna(subset=[\"zip\"])\n",
    "final_2016_df.set_index(\"Report_No\",inplace=True)\n",
    "\n",
    "cleaned_2017_df=crime_2017_df[['Report_No','Zip Code','Description','Race','Sex','Age']]\n",
    "renamed_2017_df=cleaned_2017_df.rename(columns={\"Zip Code\":\"zip\"})\n",
    "final_2017_df=renamed_2017_df.dropna(subset=[\"zip\"])\n",
    "final_2017_df.set_index(\"Report_No\",inplace=True)\n",
    "\n",
    "cleaned_2018_df=crime_2018_df[['Report_No','Zip Code','Description','Race','Sex','Age']]\n",
    "renamed_2018_df=cleaned_2018_df.rename(columns={\"Zip Code\":\"zip\"})\n",
    "final_2018_df=renamed_2018_df.dropna(subset=[\"zip\"])\n",
    "final_2018_df.set_index(\"Report_No\",inplace=True)\n",
    "\n",
    "cleaned_2019_df=crime_2019_df[['Report_No','Zip Code','Description','Race','Sex','Age']]\n",
    "renamed_2019_df=cleaned_2019_df.rename(columns={\"Zip Code\":\"zip\"})\n",
    "final_2019_df=renamed_2019_df.dropna(subset=[\"zip\"])\n",
    "final_2019_df.set_index(\"Report_No\",inplace=True)\n",
    "\n",
    "cleaned_2020_df=crime_2020_df[['Report_No','Zip Code','Description','Race','Sex','Age']]\n",
    "renamed_2020_df=cleaned_2020_df.rename(columns={\"Zip Code\":\"zip\"})\n",
    "final_2020_df=renamed_2020_df.dropna(subset=[\"zip\"])\n",
    "final_2020_df.set_index(\"Report_No\",inplace=True)\n",
    "\n",
    "final_2020_df.head()"
   ]
  },
  {
   "cell_type": "code",
   "execution_count": null,
   "metadata": {},
   "outputs": [],
   "source": [
    "# Import and read population file with population density based off zip codes\n",
    "pop_file=\"data/2010_KCMO_Population_zip.csv\"\n",
    "pop_df=pd.read_csv(pop_file,header=None)\n",
    "\n",
    "# Pull columns necessary for analysis, rename, and set index to zip code\n",
    "pop_columns=pop_df[[1,4,5]].copy()\n",
    "final_pop_df=pop_columns.rename(columns={1:\"zip\",\n",
    "                                         4:\"population\",\n",
    "                                         5:\"density\"})\n",
    "final_pop_df.set_index(\"zip\",inplace=True)\n",
    "final_pop_df.head()"
   ]
  },
  {
   "cell_type": "code",
   "execution_count": null,
   "metadata": {
    "scrolled": true
   },
   "outputs": [],
   "source": [
    "# Combine all crime dataframes into one dataframe\n",
    "full_crime_df=pd.concat([crime_2014_df,crime_2015_df,crime_2016_df,crime_2017_df,crime_2018_df,crime_2019_df,crime_2020_df],sort=False)\n",
    "\n",
    "# Pull columns necessary for analysis, rename, and set index to report number\n",
    "cleaned_crime_df=full_crime_df[['Report_No','Reported_Date','Description','Zip Code','Race','Sex','Age']]\n",
    "\n",
    "# Filter out all misspelled zip codes by specifying number limit\n",
    "fin_crime_df = cleaned_crime_df[cleaned_crime_df['Zip Code'] >= 10000] \n",
    "\n",
    "final_crime_df=fin_crime_df.dropna(subset=['Zip Code'])\n",
    "final_crime_df.set_index('Report_No',inplace=True)\n",
    "\n",
    "# Switched data type to integers for zip codes\n",
    "final_crime_df['Zip Code']=final_crime_df['Zip Code'].astype('int')\n",
    "\n",
    "final_crime_df.head()"
   ]
  },
  {
   "cell_type": "markdown",
   "metadata": {},
   "source": [
    "### Database Connection\n",
    "#### Must run this code to view database"
   ]
  },
  {
   "cell_type": "code",
   "execution_count": null,
   "metadata": {},
   "outputs": [],
   "source": [
    "# Create engine connection to sqlite\n",
    "engine = create_engine('sqlite:///KC_Crime_Density.db', echo=False)\n",
    "\n",
    "# Load crime dataframe into sqlite database\n",
    "final_crime_df.to_sql(name=\"full_crime\",con=engine,if_exists=\"append\",index=True)"
   ]
  },
  {
   "cell_type": "code",
   "execution_count": null,
   "metadata": {},
   "outputs": [],
   "source": [
    "# Load population dataframe into sqlite database\n",
    "final_pop_df.to_sql(name=\"population\",con=engine,if_exists=\"append\",index=True)"
   ]
  },
  {
   "cell_type": "code",
   "execution_count": null,
   "metadata": {},
   "outputs": [],
   "source": [
    "# Load yearly crime dataframes into sqlite database\n",
    "final_2014_df.to_sql(name=\"crime_2014\",con=engine,if_exists=\"append\",index=True)\n",
    "final_2015_df.to_sql(name=\"crime_2015\",con=engine,if_exists=\"append\",index=True)\n",
    "final_2016_df.to_sql(name=\"crime_2016\",con=engine,if_exists=\"append\",index=True)\n",
    "final_2017_df.to_sql(name=\"crime_2017\",con=engine,if_exists=\"append\",index=True)\n",
    "final_2018_df.to_sql(name=\"crime_2018\",con=engine,if_exists=\"append\",index=True)\n",
    "final_2019_df.to_sql(name=\"crime_2019\",con=engine,if_exists=\"append\",index=True)\n",
    "final_2020_df.to_sql(name=\"crime_2020\",con=engine,if_exists=\"append\",index=True)"
   ]
  }
 ],
 "metadata": {
  "kernelspec": {
   "display_name": "Python 3",
   "language": "python",
   "name": "python3"
  },
  "language_info": {
   "codemirror_mode": {
    "name": "ipython",
    "version": 3
   },
   "file_extension": ".py",
   "mimetype": "text/x-python",
   "name": "python",
   "nbconvert_exporter": "python",
   "pygments_lexer": "ipython3",
   "version": "3.7.6"
  }
 },
 "nbformat": 4,
 "nbformat_minor": 4
}
